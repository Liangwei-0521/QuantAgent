{
 "cells": [
  {
   "cell_type": "markdown",
   "id": "f8e7b325",
   "metadata": {},
   "source": [
    "实验测试与对比"
   ]
  },
  {
   "cell_type": "code",
   "execution_count": null,
   "id": "dede4543",
   "metadata": {},
   "outputs": [],
   "source": []
  }
 ],
 "metadata": {
  "kernelspec": {
   "display_name": "Manus",
   "language": "python",
   "name": "python3"
  },
  "language_info": {
   "name": "python",
   "version": "3.11.0"
  }
 },
 "nbformat": 4,
 "nbformat_minor": 5
}
